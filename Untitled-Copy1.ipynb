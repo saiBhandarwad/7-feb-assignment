{
 "cells": [
  {
   "cell_type": "code",
   "execution_count": null,
   "id": "c36fad5e-5fc0-4a10-9f0c-e74ecf0c94d7",
   "metadata": {},
   "outputs": [],
   "source": [
    "# Q1.ANS=>\n",
    "l, u, s, d = 0, 0, 0, 0\n",
    "p = input(\"password: \")\n",
    "capitalalphabets=\"ABCDEFGHIJKLMNOPQRSTUVWXYZ\"\n",
    "smallalphabets=\"abcdefghijklmnopqrstuvwxyz\"\n",
    "specialchar=\"$@_\"\n",
    "digits=\"0123456789\"\n",
    "if (len(p) == 10):\n",
    "\tfor i in p:\n",
    "\n",
    "\t\t# counting lowercase alphabets\n",
    "\t\tif (i in smallalphabets):\n",
    "\t\t\tl+=1\t\t\n",
    "\n",
    "\t\t# counting uppercase alphabets\n",
    "\t\tif (i in capitalalphabets):\n",
    "\t\t\tu+=1\t\t\n",
    "\n",
    "\t\t# counting digits\n",
    "\t\tif (i in digits):\n",
    "\t\t\td+=1\t\t\n",
    "\n",
    "\t\t# counting the mentioned special characters\n",
    "\t\tif(i in specialchar):\n",
    "\t\t\ts+=1\t\n",
    "if (l>=2 and u>=2 and s>=3 and d>=1 and l+s+u+d==len(p)):\n",
    "\tprint(\"Valid Password\")\n",
    "else:\n",
    "\tprint(\"Invalid Password\")\n"
   ]
  },
  {
   "cell_type": "code",
   "execution_count": null,
   "id": "1889a509-ab00-4cc9-82e1-78fd77117bb0",
   "metadata": {},
   "outputs": [],
   "source": [
    "# Q2.ANS=>"
   ]
  },
  {
   "cell_type": "code",
   "execution_count": null,
   "id": "838ed94b-c5e4-40ae-967d-538ef8c52986",
   "metadata": {},
   "outputs": [],
   "source": [
    "# Check if the string starts with a particular letter\n",
    "string=input(\"enter a word: \")\n",
    "if string[0]=='a':\n",
    "    print(\"string starts with\",'a')\n",
    "else:\n",
    "    print(\"we only Check if the string starts with 'a'\")"
   ]
  },
  {
   "cell_type": "code",
   "execution_count": null,
   "id": "56a98bb7-c36b-4f00-93e5-c6f51931258f",
   "metadata": {},
   "outputs": [],
   "source": [
    "# Check if the string is numeric\n",
    "string=input(\"enter a word: \")\n",
    "if string.isnumeric():\n",
    "    print(\"you entered string is numeric\")\n",
    "else:\n",
    "    print(\"you entered string is not numeric\")\n"
   ]
  },
  {
   "cell_type": "code",
   "execution_count": null,
   "id": "69cefcc0-a7d0-47db-bbd8-acc56b43fa9a",
   "metadata": {},
   "outputs": [],
   "source": [
    "# Sort a list of tuples having fruit names and their quantity. \n",
    "l=[(\"mango\",99),(\"orange\",80), (\"grapes\", 1000)]\n",
    "sort=sorted(l)\n",
    "print(sort)"
   ]
  },
  {
   "cell_type": "code",
   "execution_count": null,
   "id": "d8804d9b-ef6c-441d-8468-3d6fb43af3e5",
   "metadata": {},
   "outputs": [],
   "source": [
    "# Find the squares of numbers from 1 to 10\n",
    "l=[i for i in range(1,11)]\n",
    "sq=map(lambda x:x**2,l)\n",
    "print(list(sq))"
   ]
  },
  {
   "cell_type": "code",
   "execution_count": null,
   "id": "b1e9d37e-670f-4a87-9313-1e1aedb3e426",
   "metadata": {},
   "outputs": [],
   "source": [
    "# Find the cube root of numbers from 1 to 10\n",
    "import numpy as np\n",
    "l1=[i for i in range(1,11)]\n",
    "cu=map(lambda x:np.cbrt(x),l1)\n",
    "print(list(cu))"
   ]
  },
  {
   "cell_type": "code",
   "execution_count": null,
   "id": "308b76bd-38a6-49bf-a1a5-4c6947fece6e",
   "metadata": {},
   "outputs": [],
   "source": [
    "# Check if a given number is even\n",
    "n=int(input(\"enter the number: \"))\n",
    "[n,\" is even\" if n%2==0 else \"number is not even\"]"
   ]
  },
  {
   "cell_type": "code",
   "execution_count": null,
   "id": "383a9b65-a8da-45d9-8a4a-c9b61dbb53f0",
   "metadata": {},
   "outputs": [],
   "source": [
    "# Filter odd numbers from the given list.\n",
    "l=[1,2,3,4,5,6,7,8,9,10]\n",
    "l1=filter(lambda x:x if x%2==0 else None,l)\n",
    "print(list(l1))"
   ]
  },
  {
   "cell_type": "code",
   "execution_count": null,
   "id": "0369f0a6-c7aa-4214-b6a2-d53b1e46c903",
   "metadata": {},
   "outputs": [],
   "source": [
    "# Sort a list of integers into positive and negative integers lists.\n",
    "l=[1,2,3,4,5,6,-1,-2,-3,-4,-5,0]\n",
    "l1=filter(lambda x:x if x>0 else None,l)\n",
    "l2=filter(lambda x:x if x<0 else None,l)\n",
    "print(list(l1))\n",
    "print(list(l2))"
   ]
  },
  {
   "cell_type": "code",
   "execution_count": null,
   "id": "c3af0a99-a79a-49a4-af38-fd7cc42154bd",
   "metadata": {},
   "outputs": [],
   "source": []
  }
 ],
 "metadata": {
  "kernelspec": {
   "display_name": "Python 3 (ipykernel)",
   "language": "python",
   "name": "python3"
  },
  "language_info": {
   "codemirror_mode": {
    "name": "ipython",
    "version": 3
   },
   "file_extension": ".py",
   "mimetype": "text/x-python",
   "name": "python",
   "nbconvert_exporter": "python",
   "pygments_lexer": "ipython3",
   "version": "3.10.8"
  }
 },
 "nbformat": 4,
 "nbformat_minor": 5
}
